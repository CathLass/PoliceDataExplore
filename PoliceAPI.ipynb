{
 "cells": [
  {
   "cell_type": "code",
   "execution_count": null,
   "metadata": {},
   "outputs": [],
   "source": [
    "import requests\n",
    "import pandas as pd\n",
    "import numpy as np\n",
    "import json"
   ]
  },
  {
   "cell_type": "code",
   "execution_count": null,
   "metadata": {},
   "outputs": [],
   "source": [
    "API_location = r\"https://data.police.uk/api/\""
   ]
  },
  {
   "cell_type": "markdown",
   "metadata": {},
   "source": [
    "## get crime categories"
   ]
  },
  {
   "cell_type": "code",
   "execution_count": null,
   "metadata": {},
   "outputs": [],
   "source": [
    "date=\"2020-02\"\n",
    "request_string=API_location+\"crime-categories?date=\"+date\n",
    "print(request_string)\n",
    "resp = requests.get(request_string)"
   ]
  },
  {
   "cell_type": "code",
   "execution_count": null,
   "metadata": {},
   "outputs": [],
   "source": [
    "df_crime_categories=pd.DataFrame(resp.json())"
   ]
  },
  {
   "cell_type": "code",
   "execution_count": null,
   "metadata": {},
   "outputs": [],
   "source": [
    "df_crime_categories"
   ]
  },
  {
   "cell_type": "markdown",
   "metadata": {},
   "source": [
    "### TO DO\n",
    "* what's the URL in that response for?"
   ]
  },
  {
   "cell_type": "code",
   "execution_count": null,
   "metadata": {},
   "outputs": [],
   "source": [
    "request_string=API_location+'anti-social-behaviour?date='+date\n",
    "print(request_string)\n",
    "resp = requests.get(request_string)\n",
    "resp.status_code"
   ]
  },
  {
   "cell_type": "markdown",
   "metadata": {},
   "source": [
    "## find neighbourhood info\n",
    "get neighbourhood code for a specific lat and long\n",
    "could be used to get the lat-long pairs defining a boundary to be sent to crimes-street/all-crime API method"
   ]
  },
  {
   "cell_type": "code",
   "execution_count": null,
   "metadata": {},
   "outputs": [],
   "source": [
    "lat_long=(54.78005,-1.56704)"
   ]
  },
  {
   "cell_type": "code",
   "execution_count": null,
   "metadata": {},
   "outputs": [],
   "source": [
    "request_string=\"{0}locate-neighbourhood?q={1},{2}\".format(API_location,lat_long[0],lat_long[1])\n",
    "request_string"
   ]
  },
  {
   "cell_type": "code",
   "execution_count": null,
   "metadata": {},
   "outputs": [],
   "source": [
    "resp_neighbourhood=requests.get(request_string)"
   ]
  },
  {
   "cell_type": "code",
   "execution_count": null,
   "metadata": {},
   "outputs": [],
   "source": [
    "if resp_neighbourhood.ok == True:\n",
    "    print(resp_neighbourhood.json())"
   ]
  },
  {
   "cell_type": "markdown",
   "metadata": {},
   "source": [
    "## crime data for an area\n",
    "* called street-level crimes, but actually allows for a wider search"
   ]
  },
  {
   "cell_type": "code",
   "execution_count": null,
   "metadata": {},
   "outputs": [],
   "source": [
    "# search in a given area specified by a polynomial defined as lat/lon pairs\n",
    "request_string=r\"https://data.police.uk/api/crimes-street/all-crime?poly=52.268,0.543:52.794,0.238:52.130,0.478&date=2019-01\""
   ]
  },
  {
   "cell_type": "code",
   "execution_count": null,
   "metadata": {},
   "outputs": [],
   "source": [
    "# search within 1 mile of lat/long\n",
    "lat_long=(54.78005,-1.56704)\n",
    "request_string=\"{0}crimes-street/all-crime?lat={1}&lng={2}\".format(API_location,lat_long[0],lat_long[1])"
   ]
  },
  {
   "cell_type": "code",
   "execution_count": null,
   "metadata": {},
   "outputs": [],
   "source": [
    "print(request_string)\n",
    "resp_all_crime=requests.get(request_string)"
   ]
  },
  {
   "cell_type": "code",
   "execution_count": null,
   "metadata": {},
   "outputs": [],
   "source": [
    "if resp_all_crime.ok:\n",
    "    if len(resp_all_crime.json()) > 0:\n",
    "        print(\"{0} records returned\".format(len(resp_all_crime.json())))\n",
    "else:\n",
    "    print(\"Error with status code: {0}\".format(resp_all_crime.status_code))"
   ]
  },
  {
   "cell_type": "code",
   "execution_count": null,
   "metadata": {},
   "outputs": [],
   "source": [
    "resp_all_crime.json()[30]"
   ]
  },
  {
   "cell_type": "code",
   "execution_count": null,
   "metadata": {},
   "outputs": [],
   "source": [
    "df_all_crime=pd.DataFrame(resp_all_crime.json())\n",
    "df_all_crime.groupby('category').count()"
   ]
  },
  {
   "cell_type": "markdown",
   "metadata": {},
   "source": [
    "## Crimes with no location recorded"
   ]
  },
  {
   "cell_type": "code",
   "execution_count": null,
   "metadata": {},
   "outputs": [],
   "source": [
    "request_string=r\"https://data.police.uk/api/crimes-no-location?category=all-crime&force=durham&date=2020-02\"\n",
    "\n",
    "request_string=r\"https://data.police.uk/api/crimes-no-location?category=all-crime&force=durham\""
   ]
  },
  {
   "cell_type": "code",
   "execution_count": null,
   "metadata": {},
   "outputs": [],
   "source": [
    "resp_crimes_no_location=requests.get(request_string)"
   ]
  },
  {
   "cell_type": "code",
   "execution_count": null,
   "metadata": {},
   "outputs": [],
   "source": [
    "len(resp_crimes_no_location.json())"
   ]
  },
  {
   "cell_type": "markdown",
   "metadata": {},
   "source": [
    "## find out the availability of data\n",
    "* don't seem to be able to specify a date\n",
    "* it seems to return stop-and-search availability over a number of months, in a list"
   ]
  },
  {
   "cell_type": "code",
   "execution_count": null,
   "metadata": {},
   "outputs": [],
   "source": [
    "date=\"2017-02\"\n",
    "lat_long[0],lat_long[1]"
   ]
  },
  {
   "cell_type": "code",
   "execution_count": null,
   "metadata": {},
   "outputs": [],
   "source": [
    "request_string=API_location+\"crimes-street-dates?date={0}\".format(date)\n",
    "request_string"
   ]
  },
  {
   "cell_type": "code",
   "execution_count": null,
   "metadata": {},
   "outputs": [],
   "source": [
    "resp_availability=requests.get(request_string)"
   ]
  },
  {
   "cell_type": "raw",
   "metadata": {},
   "source": [
    "if resp_availability.ok:\n",
    "    print(resp_availability.json())"
   ]
  },
  {
   "cell_type": "code",
   "execution_count": null,
   "metadata": {},
   "outputs": [],
   "source": [
    "resp_availability.json()[2]"
   ]
  },
  {
   "cell_type": "markdown",
   "metadata": {},
   "source": [
    "## crime data for a lat/long"
   ]
  },
  {
   "cell_type": "code",
   "execution_count": null,
   "metadata": {},
   "outputs": [],
   "source": [
    "lat_long=(52.629729,-1.131592)\n",
    "date=\"2019-03\"\n",
    "request_string=API_location+\"crimes-at-location?date={0}&lat={1}&lng={2}\".format(date,lat_long[0],lat_long[1])\n",
    "request_string"
   ]
  },
  {
   "cell_type": "code",
   "execution_count": null,
   "metadata": {},
   "outputs": [],
   "source": [
    "resp_crimes_at_location=requests.get(request_string)"
   ]
  },
  {
   "cell_type": "code",
   "execution_count": null,
   "metadata": {},
   "outputs": [],
   "source": [
    "resp_crimes_at_location.status_code"
   ]
  },
  {
   "cell_type": "code",
   "execution_count": null,
   "metadata": {},
   "outputs": [],
   "source": [
    "len(resp_crimes_at_location.json())"
   ]
  },
  {
   "cell_type": "code",
   "execution_count": null,
   "metadata": {},
   "outputs": [],
   "source": [
    "resp_crimes_at_location.json()"
   ]
  },
  {
   "cell_type": "code",
   "execution_count": null,
   "metadata": {},
   "outputs": [],
   "source": []
  }
 ],
 "metadata": {
  "kernelspec": {
   "display_name": "Python 3",
   "language": "python",
   "name": "python3"
  },
  "language_info": {
   "codemirror_mode": {
    "name": "ipython",
    "version": 3
   },
   "file_extension": ".py",
   "mimetype": "text/x-python",
   "name": "python",
   "nbconvert_exporter": "python",
   "pygments_lexer": "ipython3",
   "version": "3.7.4"
  }
 },
 "nbformat": 4,
 "nbformat_minor": 2
}
